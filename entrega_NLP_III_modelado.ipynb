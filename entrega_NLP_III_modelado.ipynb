{
  "nbformat": 4,
  "nbformat_minor": 0,
  "metadata": {
    "colab": {
      "provenance": []
    },
    "kernelspec": {
      "name": "python3",
      "display_name": "Python 3"
    },
    "language_info": {
      "name": "python"
    }
  },
  "cells": [
    {
      "cell_type": "markdown",
      "source": [
        "Repetimos los pasos del analisis anterior para llegar al bag of words preprocesadas y la separación train-test"
      ],
      "metadata": {
        "id": "RrqcNVQlx4pZ"
      }
    },
    {
      "cell_type": "markdown",
      "source": [
        "Importamos las herramientas/utils a utilizar"
      ],
      "metadata": {
        "id": "xKJB_PnvuvCc"
      }
    },
    {
      "cell_type": "code",
      "source": [
        "import unicodedata\n",
        "from nltk.corpus import stopwords\n",
        "import nltk\n",
        "nltk.download('stopwords')\n",
        "import unicodedata\n",
        "from nltk.corpus import stopwords\n",
        "import pandas as pd\n",
        "from nltk.stem import PorterStemmer  # Importar la clase PorterStemmer\n",
        "import random\n",
        "import numpy as np\n",
        "import pandas as pd\n",
        "from collections import Counter # Exploración\n",
        "from nltk import ngrams # Exploración\n",
        "from nltk.probability import FreqDist # Exploración\n",
        "import unicodedata # Preprocesado\n",
        "import re # Preprocesado\n",
        "import random\n",
        "import numpy as np\n",
        "import pandas as pd\n",
        "from collections import Counter # Exploración\n",
        "from nltk import ngrams # Exploración\n",
        "from nltk.probability import FreqDist # Exploración\n",
        "import unicodedata # Preprocesado\n",
        "import re # Preprocesado\n",
        "from sklearn.model_selection import train_test_split # Modelado\n",
        "from sklearn.pipeline import Pipeline # Modelado\n",
        "from sklearn.feature_extraction.text import CountVectorizer, TfidfVectorizer # Modelado\n",
        "from sklearn.feature_selection import chi2 # Reporte\n",
        "from sklearn.linear_model import LogisticRegression # Reporte\n",
        "from sklearn.metrics import accuracy_score, confusion_matrix, classification_report, roc_curve, precision_recall_curve # Reporte\n",
        "import matplotlib.pyplot as plt\n",
        "import gzip\n",
        "import json\n",
        "import pandas as pd\n",
        "import urllib.request\n",
        "import random\n",
        "import numpy as np\n",
        "import pandas as pd\n",
        "from collections import Counter # Exploración\n",
        "from nltk import ngrams # Exploración\n",
        "from nltk.probability import FreqDist # Exploración\n",
        "import unicodedata # Preprocesado\n",
        "import re # Preprocesado\n",
        "from sklearn.model_selection import train_test_split # Modelado\n",
        "from sklearn.pipeline import Pipeline # Modelado\n",
        "from sklearn.feature_extraction.text import CountVectorizer, TfidfVectorizer # Modelado\n",
        "from sklearn.feature_selection import chi2 # Reporte\n",
        "from sklearn.linear_model import LogisticRegression # Reporte\n",
        "from sklearn.metrics import accuracy_score, confusion_matrix, classification_report, roc_curve, precision_recall_curve # Reporte\n",
        "import matplotlib.pyplot as plt\n",
        "from tensorflow.keras.models import Sequential\n",
        "from tensorflow.keras.layers import Dense"
      ],
      "metadata": {
        "id": "I6-mnKjtuuI0"
      },
      "execution_count": null,
      "outputs": []
    },
    {
      "cell_type": "markdown",
      "source": [
        "Repetimos la bajada de datos"
      ],
      "metadata": {
        "id": "YZvP7BY2yK7S"
      }
    },
    {
      "cell_type": "code",
      "source": [
        "! wget http://snap.stanford.edu/data/amazon/productGraph/categoryFiles/reviews_Toys_and_Games_5.json.gz"
      ],
      "metadata": {
        "colab": {
          "base_uri": "https://localhost:8080/"
        },
        "outputId": "40fbc4c4-c1b5-46c0-b231-569c9c2959ba",
        "id": "R1GDp8_FyK7S"
      },
      "execution_count": null,
      "outputs": [
        {
          "output_type": "stream",
          "name": "stdout",
          "text": [
            "--2024-03-23 18:35:04--  http://snap.stanford.edu/data/amazon/productGraph/categoryFiles/reviews_Toys_and_Games_5.json.gz\n",
            "Resolving snap.stanford.edu (snap.stanford.edu)... 171.64.75.80\n",
            "Connecting to snap.stanford.edu (snap.stanford.edu)|171.64.75.80|:80... connected.\n",
            "HTTP request sent, awaiting response... 200 OK\n",
            "Length: 42057555 (40M) [application/x-gzip]\n",
            "Saving to: ‘reviews_Toys_and_Games_5.json.gz.1’\n",
            "\n",
            "reviews_Toys_and_Ga 100%[===================>]  40.11M  10.9MB/s    in 5.3s    \n",
            "\n",
            "2024-03-23 18:35:09 (7.54 MB/s) - ‘reviews_Toys_and_Games_5.json.gz.1’ saved [42057555/42057555]\n",
            "\n"
          ]
        }
      ]
    },
    {
      "cell_type": "code",
      "source": [
        "\n",
        "url = 'http://snap.stanford.edu/data/amazon/productGraph/categoryFiles/reviews_Toys_and_Games_5.json.gz'\n",
        "urllib.request.urlretrieve(url, 'reviews_Toys_and_Games_5.json.gz')"
      ],
      "metadata": {
        "colab": {
          "base_uri": "https://localhost:8080/"
        },
        "outputId": "fd2e6552-9fbf-41f6-eb71-5d2456575aa8",
        "id": "yDZfkiIEyK7U"
      },
      "execution_count": null,
      "outputs": [
        {
          "output_type": "execute_result",
          "data": {
            "text/plain": [
              "('reviews_Toys_and_Games_5.json.gz',\n",
              " <http.client.HTTPMessage at 0x7a9fb017d390>)"
            ]
          },
          "metadata": {},
          "execution_count": 2
        }
      ]
    },
    {
      "cell_type": "markdown",
      "source": [
        "Y los convertimos en una lista de diccionarios."
      ],
      "metadata": {
        "id": "k1Cw74kGudFq"
      }
    },
    {
      "cell_type": "code",
      "source": [
        "# Lista para almacenar los datos\n",
        "data = []\n",
        "\n",
        "# Abre el archivo JSON comprimido y descomprímelo\n",
        "with gzip.open('reviews_Toys_and_Games_5.json.gz', 'rt', encoding='utf-8') as f:\n",
        "    # Lee cada línea del archivo\n",
        "    for line in f:\n",
        "        # Carga el contenido de la línea en un diccionario\n",
        "        item = json.loads(line)\n",
        "        # Agrega el diccionario a la lista de datos\n",
        "        data.append(item)\n",
        "\n",
        "# Ahora puedes trabajar con los datos, que estarán en forma de una lista de diccionarios. Los pasamos a un dataframe\n",
        "df = pd.DataFrame(data)"
      ],
      "metadata": {
        "id": "AJItdZDaubf3"
      },
      "execution_count": null,
      "outputs": []
    },
    {
      "cell_type": "markdown",
      "source": [
        "Veamos la estructura de los datos"
      ],
      "metadata": {
        "id": "9m7gu58Utk59"
      }
    },
    {
      "cell_type": "code",
      "source": [
        "df.head()"
      ],
      "metadata": {
        "colab": {
          "base_uri": "https://localhost:8080/",
          "height": 206
        },
        "outputId": "5a308e6f-e850-4e08-f786-4c89a7a94430",
        "id": "hCuUJO0pyK7U"
      },
      "execution_count": null,
      "outputs": [
        {
          "output_type": "execute_result",
          "data": {
            "text/plain": [
              "       reviewerID        asin    reviewerName helpful  \\\n",
              "0  A1VXOAVRGKGEAK  0439893577           Angie  [0, 0]   \n",
              "1   A8R62G708TSCM  0439893577         Candace  [1, 1]   \n",
              "2  A21KH420DK0ICA  0439893577  capemaychristy  [1, 1]   \n",
              "3   AR29QK6HPFYZ4  0439893577            dcrm  [0, 0]   \n",
              "4   ACCH8EOML6FN5  0439893577            DoyZ  [1, 1]   \n",
              "\n",
              "                                          reviewText  overall  \\\n",
              "0  I like the item pricing. My granddaughter want...      5.0   \n",
              "1  Love the magnet easel... great for moving to d...      4.0   \n",
              "2  Both sides are magnetic.  A real plus when you...      5.0   \n",
              "3  Bought one a few years ago for my daughter and...      5.0   \n",
              "4  I have a stainless steel refrigerator therefor...      4.0   \n",
              "\n",
              "                                             summary  unixReviewTime  \\\n",
              "0                                     Magnetic board      1390953600   \n",
              "1  it works pretty good for moving to different a...      1395964800   \n",
              "2                                         love this!      1359331200   \n",
              "3                                  Daughters love it      1391817600   \n",
              "4  Great to have so he can play with his alphabet...      1399248000   \n",
              "\n",
              "    reviewTime  \n",
              "0  01 29, 2014  \n",
              "1  03 28, 2014  \n",
              "2  01 28, 2013  \n",
              "3   02 8, 2014  \n",
              "4   05 5, 2014  "
            ],
            "text/html": [
              "\n",
              "  <div id=\"df-49d74952-8bc4-45bf-b962-351e583f6183\" class=\"colab-df-container\">\n",
              "    <div>\n",
              "<style scoped>\n",
              "    .dataframe tbody tr th:only-of-type {\n",
              "        vertical-align: middle;\n",
              "    }\n",
              "\n",
              "    .dataframe tbody tr th {\n",
              "        vertical-align: top;\n",
              "    }\n",
              "\n",
              "    .dataframe thead th {\n",
              "        text-align: right;\n",
              "    }\n",
              "</style>\n",
              "<table border=\"1\" class=\"dataframe\">\n",
              "  <thead>\n",
              "    <tr style=\"text-align: right;\">\n",
              "      <th></th>\n",
              "      <th>reviewerID</th>\n",
              "      <th>asin</th>\n",
              "      <th>reviewerName</th>\n",
              "      <th>helpful</th>\n",
              "      <th>reviewText</th>\n",
              "      <th>overall</th>\n",
              "      <th>summary</th>\n",
              "      <th>unixReviewTime</th>\n",
              "      <th>reviewTime</th>\n",
              "    </tr>\n",
              "  </thead>\n",
              "  <tbody>\n",
              "    <tr>\n",
              "      <th>0</th>\n",
              "      <td>A1VXOAVRGKGEAK</td>\n",
              "      <td>0439893577</td>\n",
              "      <td>Angie</td>\n",
              "      <td>[0, 0]</td>\n",
              "      <td>I like the item pricing. My granddaughter want...</td>\n",
              "      <td>5.0</td>\n",
              "      <td>Magnetic board</td>\n",
              "      <td>1390953600</td>\n",
              "      <td>01 29, 2014</td>\n",
              "    </tr>\n",
              "    <tr>\n",
              "      <th>1</th>\n",
              "      <td>A8R62G708TSCM</td>\n",
              "      <td>0439893577</td>\n",
              "      <td>Candace</td>\n",
              "      <td>[1, 1]</td>\n",
              "      <td>Love the magnet easel... great for moving to d...</td>\n",
              "      <td>4.0</td>\n",
              "      <td>it works pretty good for moving to different a...</td>\n",
              "      <td>1395964800</td>\n",
              "      <td>03 28, 2014</td>\n",
              "    </tr>\n",
              "    <tr>\n",
              "      <th>2</th>\n",
              "      <td>A21KH420DK0ICA</td>\n",
              "      <td>0439893577</td>\n",
              "      <td>capemaychristy</td>\n",
              "      <td>[1, 1]</td>\n",
              "      <td>Both sides are magnetic.  A real plus when you...</td>\n",
              "      <td>5.0</td>\n",
              "      <td>love this!</td>\n",
              "      <td>1359331200</td>\n",
              "      <td>01 28, 2013</td>\n",
              "    </tr>\n",
              "    <tr>\n",
              "      <th>3</th>\n",
              "      <td>AR29QK6HPFYZ4</td>\n",
              "      <td>0439893577</td>\n",
              "      <td>dcrm</td>\n",
              "      <td>[0, 0]</td>\n",
              "      <td>Bought one a few years ago for my daughter and...</td>\n",
              "      <td>5.0</td>\n",
              "      <td>Daughters love it</td>\n",
              "      <td>1391817600</td>\n",
              "      <td>02 8, 2014</td>\n",
              "    </tr>\n",
              "    <tr>\n",
              "      <th>4</th>\n",
              "      <td>ACCH8EOML6FN5</td>\n",
              "      <td>0439893577</td>\n",
              "      <td>DoyZ</td>\n",
              "      <td>[1, 1]</td>\n",
              "      <td>I have a stainless steel refrigerator therefor...</td>\n",
              "      <td>4.0</td>\n",
              "      <td>Great to have so he can play with his alphabet...</td>\n",
              "      <td>1399248000</td>\n",
              "      <td>05 5, 2014</td>\n",
              "    </tr>\n",
              "  </tbody>\n",
              "</table>\n",
              "</div>\n",
              "    <div class=\"colab-df-buttons\">\n",
              "\n",
              "  <div class=\"colab-df-container\">\n",
              "    <button class=\"colab-df-convert\" onclick=\"convertToInteractive('df-49d74952-8bc4-45bf-b962-351e583f6183')\"\n",
              "            title=\"Convert this dataframe to an interactive table.\"\n",
              "            style=\"display:none;\">\n",
              "\n",
              "  <svg xmlns=\"http://www.w3.org/2000/svg\" height=\"24px\" viewBox=\"0 -960 960 960\">\n",
              "    <path d=\"M120-120v-720h720v720H120Zm60-500h600v-160H180v160Zm220 220h160v-160H400v160Zm0 220h160v-160H400v160ZM180-400h160v-160H180v160Zm440 0h160v-160H620v160ZM180-180h160v-160H180v160Zm440 0h160v-160H620v160Z\"/>\n",
              "  </svg>\n",
              "    </button>\n",
              "\n",
              "  <style>\n",
              "    .colab-df-container {\n",
              "      display:flex;\n",
              "      gap: 12px;\n",
              "    }\n",
              "\n",
              "    .colab-df-convert {\n",
              "      background-color: #E8F0FE;\n",
              "      border: none;\n",
              "      border-radius: 50%;\n",
              "      cursor: pointer;\n",
              "      display: none;\n",
              "      fill: #1967D2;\n",
              "      height: 32px;\n",
              "      padding: 0 0 0 0;\n",
              "      width: 32px;\n",
              "    }\n",
              "\n",
              "    .colab-df-convert:hover {\n",
              "      background-color: #E2EBFA;\n",
              "      box-shadow: 0px 1px 2px rgba(60, 64, 67, 0.3), 0px 1px 3px 1px rgba(60, 64, 67, 0.15);\n",
              "      fill: #174EA6;\n",
              "    }\n",
              "\n",
              "    .colab-df-buttons div {\n",
              "      margin-bottom: 4px;\n",
              "    }\n",
              "\n",
              "    [theme=dark] .colab-df-convert {\n",
              "      background-color: #3B4455;\n",
              "      fill: #D2E3FC;\n",
              "    }\n",
              "\n",
              "    [theme=dark] .colab-df-convert:hover {\n",
              "      background-color: #434B5C;\n",
              "      box-shadow: 0px 1px 3px 1px rgba(0, 0, 0, 0.15);\n",
              "      filter: drop-shadow(0px 1px 2px rgba(0, 0, 0, 0.3));\n",
              "      fill: #FFFFFF;\n",
              "    }\n",
              "  </style>\n",
              "\n",
              "    <script>\n",
              "      const buttonEl =\n",
              "        document.querySelector('#df-49d74952-8bc4-45bf-b962-351e583f6183 button.colab-df-convert');\n",
              "      buttonEl.style.display =\n",
              "        google.colab.kernel.accessAllowed ? 'block' : 'none';\n",
              "\n",
              "      async function convertToInteractive(key) {\n",
              "        const element = document.querySelector('#df-49d74952-8bc4-45bf-b962-351e583f6183');\n",
              "        const dataTable =\n",
              "          await google.colab.kernel.invokeFunction('convertToInteractive',\n",
              "                                                    [key], {});\n",
              "        if (!dataTable) return;\n",
              "\n",
              "        const docLinkHtml = 'Like what you see? Visit the ' +\n",
              "          '<a target=\"_blank\" href=https://colab.research.google.com/notebooks/data_table.ipynb>data table notebook</a>'\n",
              "          + ' to learn more about interactive tables.';\n",
              "        element.innerHTML = '';\n",
              "        dataTable['output_type'] = 'display_data';\n",
              "        await google.colab.output.renderOutput(dataTable, element);\n",
              "        const docLink = document.createElement('div');\n",
              "        docLink.innerHTML = docLinkHtml;\n",
              "        element.appendChild(docLink);\n",
              "      }\n",
              "    </script>\n",
              "  </div>\n",
              "\n",
              "\n",
              "<div id=\"df-20a95656-6558-4d2c-8e10-5247633c2778\">\n",
              "  <button class=\"colab-df-quickchart\" onclick=\"quickchart('df-20a95656-6558-4d2c-8e10-5247633c2778')\"\n",
              "            title=\"Suggest charts\"\n",
              "            style=\"display:none;\">\n",
              "\n",
              "<svg xmlns=\"http://www.w3.org/2000/svg\" height=\"24px\"viewBox=\"0 0 24 24\"\n",
              "     width=\"24px\">\n",
              "    <g>\n",
              "        <path d=\"M19 3H5c-1.1 0-2 .9-2 2v14c0 1.1.9 2 2 2h14c1.1 0 2-.9 2-2V5c0-1.1-.9-2-2-2zM9 17H7v-7h2v7zm4 0h-2V7h2v10zm4 0h-2v-4h2v4z\"/>\n",
              "    </g>\n",
              "</svg>\n",
              "  </button>\n",
              "\n",
              "<style>\n",
              "  .colab-df-quickchart {\n",
              "      --bg-color: #E8F0FE;\n",
              "      --fill-color: #1967D2;\n",
              "      --hover-bg-color: #E2EBFA;\n",
              "      --hover-fill-color: #174EA6;\n",
              "      --disabled-fill-color: #AAA;\n",
              "      --disabled-bg-color: #DDD;\n",
              "  }\n",
              "\n",
              "  [theme=dark] .colab-df-quickchart {\n",
              "      --bg-color: #3B4455;\n",
              "      --fill-color: #D2E3FC;\n",
              "      --hover-bg-color: #434B5C;\n",
              "      --hover-fill-color: #FFFFFF;\n",
              "      --disabled-bg-color: #3B4455;\n",
              "      --disabled-fill-color: #666;\n",
              "  }\n",
              "\n",
              "  .colab-df-quickchart {\n",
              "    background-color: var(--bg-color);\n",
              "    border: none;\n",
              "    border-radius: 50%;\n",
              "    cursor: pointer;\n",
              "    display: none;\n",
              "    fill: var(--fill-color);\n",
              "    height: 32px;\n",
              "    padding: 0;\n",
              "    width: 32px;\n",
              "  }\n",
              "\n",
              "  .colab-df-quickchart:hover {\n",
              "    background-color: var(--hover-bg-color);\n",
              "    box-shadow: 0 1px 2px rgba(60, 64, 67, 0.3), 0 1px 3px 1px rgba(60, 64, 67, 0.15);\n",
              "    fill: var(--button-hover-fill-color);\n",
              "  }\n",
              "\n",
              "  .colab-df-quickchart-complete:disabled,\n",
              "  .colab-df-quickchart-complete:disabled:hover {\n",
              "    background-color: var(--disabled-bg-color);\n",
              "    fill: var(--disabled-fill-color);\n",
              "    box-shadow: none;\n",
              "  }\n",
              "\n",
              "  .colab-df-spinner {\n",
              "    border: 2px solid var(--fill-color);\n",
              "    border-color: transparent;\n",
              "    border-bottom-color: var(--fill-color);\n",
              "    animation:\n",
              "      spin 1s steps(1) infinite;\n",
              "  }\n",
              "\n",
              "  @keyframes spin {\n",
              "    0% {\n",
              "      border-color: transparent;\n",
              "      border-bottom-color: var(--fill-color);\n",
              "      border-left-color: var(--fill-color);\n",
              "    }\n",
              "    20% {\n",
              "      border-color: transparent;\n",
              "      border-left-color: var(--fill-color);\n",
              "      border-top-color: var(--fill-color);\n",
              "    }\n",
              "    30% {\n",
              "      border-color: transparent;\n",
              "      border-left-color: var(--fill-color);\n",
              "      border-top-color: var(--fill-color);\n",
              "      border-right-color: var(--fill-color);\n",
              "    }\n",
              "    40% {\n",
              "      border-color: transparent;\n",
              "      border-right-color: var(--fill-color);\n",
              "      border-top-color: var(--fill-color);\n",
              "    }\n",
              "    60% {\n",
              "      border-color: transparent;\n",
              "      border-right-color: var(--fill-color);\n",
              "    }\n",
              "    80% {\n",
              "      border-color: transparent;\n",
              "      border-right-color: var(--fill-color);\n",
              "      border-bottom-color: var(--fill-color);\n",
              "    }\n",
              "    90% {\n",
              "      border-color: transparent;\n",
              "      border-bottom-color: var(--fill-color);\n",
              "    }\n",
              "  }\n",
              "</style>\n",
              "\n",
              "  <script>\n",
              "    async function quickchart(key) {\n",
              "      const quickchartButtonEl =\n",
              "        document.querySelector('#' + key + ' button');\n",
              "      quickchartButtonEl.disabled = true;  // To prevent multiple clicks.\n",
              "      quickchartButtonEl.classList.add('colab-df-spinner');\n",
              "      try {\n",
              "        const charts = await google.colab.kernel.invokeFunction(\n",
              "            'suggestCharts', [key], {});\n",
              "      } catch (error) {\n",
              "        console.error('Error during call to suggestCharts:', error);\n",
              "      }\n",
              "      quickchartButtonEl.classList.remove('colab-df-spinner');\n",
              "      quickchartButtonEl.classList.add('colab-df-quickchart-complete');\n",
              "    }\n",
              "    (() => {\n",
              "      let quickchartButtonEl =\n",
              "        document.querySelector('#df-20a95656-6558-4d2c-8e10-5247633c2778 button');\n",
              "      quickchartButtonEl.style.display =\n",
              "        google.colab.kernel.accessAllowed ? 'block' : 'none';\n",
              "    })();\n",
              "  </script>\n",
              "</div>\n",
              "    </div>\n",
              "  </div>\n"
            ],
            "application/vnd.google.colaboratory.intrinsic+json": {
              "type": "dataframe",
              "variable_name": "df"
            }
          },
          "metadata": {},
          "execution_count": 6
        }
      ]
    },
    {
      "cell_type": "code",
      "source": [
        "df.columns"
      ],
      "metadata": {
        "colab": {
          "base_uri": "https://localhost:8080/"
        },
        "outputId": "a8c85183-75ae-4874-a75d-2998374f77eb",
        "id": "ImJw8dKOyK7U"
      },
      "execution_count": null,
      "outputs": [
        {
          "output_type": "execute_result",
          "data": {
            "text/plain": [
              "Index(['reviewerID', 'asin', 'reviewerName', 'helpful', 'reviewText',\n",
              "       'overall', 'summary', 'unixReviewTime', 'reviewTime'],\n",
              "      dtype='object')"
            ]
          },
          "metadata": {},
          "execution_count": 7
        }
      ]
    },
    {
      "cell_type": "markdown",
      "source": [
        "Procedemos a definir la función de normalización y limpieza, que pasará las palabras a minusculas, creará tokens por palabras, eliminará los caracteres especiales, quitará las stopwords, eliminará palabras que son muy comunes pero no aportan (item, pricing) y aplicará un stemming para poder utilizar terminos normalizados en los modelos predictivos."
      ],
      "metadata": {
        "id": "8FgBvBsMtq6-"
      }
    },
    {
      "cell_type": "code",
      "source": [
        "\n",
        "# Crear una instancia de PorterStemmer\n",
        "stemmer = PorterStemmer()\n",
        "\n",
        "# Definir la función de normalización\n",
        "def normalizacion(review):\n",
        "    # Separar la revisión en palabras\n",
        "    review = review.split()\n",
        "    # Convertir todas las palabras a minúsculas\n",
        "    review = [word.lower() for word in review]\n",
        "    # Quitar espacios en blanco al inicio y al final de la revisión\n",
        "    review = [word.strip() for word in review]\n",
        "    # Normalizar caracteres especiales\n",
        "    review = [unicodedata.normalize('NFKD', word).encode('ascii', 'ignore').decode('utf-8', 'ignore') for word in review]\n",
        "    # Obtener lista de palabras vacías en inglés\n",
        "    sw_list = set(stopwords.words('english'))\n",
        "    # Eliminar palabras vacías de la revisión\n",
        "    review = [word for word in review if word not in sw_list]\n",
        "    # Eliminar letras huecas (necesario para que el ejercicio de n-gram tenga sentido)\n",
        "    review = [word for word in review if word not in [',', '.', \"'\"]]\n",
        "    # Eliminar las palabras 'pricing' y 'item' del texto\n",
        "    review = [word for word in review if word not in ['pricing', 'item']]\n",
        "    # Aplicar stemming a cada palabra\n",
        "    review = [stemmer.stem(word) for word in review]\n",
        "    # Unir las palabras en una cadena de texto\n",
        "    review = ' '.join(review)\n",
        "    return review\n",
        "\n",
        "# Aplicar la función de normalización a la columna 'reviewText'\n",
        "df['reviewText_norm'] = df['reviewText'].apply(normalizacion)\n",
        "\n",
        "# Imprimir el DataFrame con la columna normalizada\n",
        "print(df['reviewText_norm'].head())\n",
        "\n"
      ],
      "metadata": {
        "colab": {
          "base_uri": "https://localhost:8080/"
        },
        "outputId": "415274f0-3089-4b8b-a73d-ec36ce8af54d",
        "id": "efYK5l_FyK7U"
      },
      "execution_count": null,
      "outputs": [
        {
          "output_type": "stream",
          "name": "stdout",
          "text": [
            "0    like pricing. granddaught want mark want letters.\n",
            "1    love magnet easel... great move differ areas.....\n",
            "2    side magnetic. real plu entertain one child. f...\n",
            "3    bought one year ago daughter love it, still us...\n",
            "4    stainless steel refriger therefor much space s...\n",
            "Name: reviewText_norm, dtype: object\n"
          ]
        }
      ]
    },
    {
      "cell_type": "markdown",
      "source": [
        "También aplicamos un \"preprocesado\" a la variable a determinar. Asi que el \"sentimiento\" es la puntuación del review-."
      ],
      "metadata": {
        "id": "MxzR4JLQyK7U"
      }
    },
    {
      "cell_type": "code",
      "source": [
        "new_df=df[['overall','reviewText_norm']]\n",
        "new_df=new_df.dropna(subset=['reviewText_norm'])\n",
        "new_df = new_df.rename(columns={'overall': 'sentiment', 'reviewText_norm': 'review'})\n",
        "new_df['sentiment_label'] = new_df['sentiment'].apply(lambda x: 1 if x > 3 else 0)\n",
        "new_df.head()"
      ],
      "metadata": {
        "colab": {
          "base_uri": "https://localhost:8080/",
          "height": 206
        },
        "outputId": "cecfe461-32df-45da-8477-354fb92ea21a",
        "id": "-yZgR8bVyK7V"
      },
      "execution_count": null,
      "outputs": [
        {
          "output_type": "execute_result",
          "data": {
            "text/plain": [
              "   sentiment                                             review  \\\n",
              "0        5.0  like pricing. granddaught want mark want letters.   \n",
              "1        4.0  love magnet easel... great move differ areas.....   \n",
              "2        5.0  side magnetic. real plu entertain one child. f...   \n",
              "3        5.0  bought one year ago daughter love it, still us...   \n",
              "4        4.0  stainless steel refriger therefor much space s...   \n",
              "\n",
              "   sentiment_label  \n",
              "0                1  \n",
              "1                1  \n",
              "2                1  \n",
              "3                1  \n",
              "4                1  "
            ],
            "text/html": [
              "\n",
              "  <div id=\"df-8d922796-810a-4600-995a-00a3c89c4444\" class=\"colab-df-container\">\n",
              "    <div>\n",
              "<style scoped>\n",
              "    .dataframe tbody tr th:only-of-type {\n",
              "        vertical-align: middle;\n",
              "    }\n",
              "\n",
              "    .dataframe tbody tr th {\n",
              "        vertical-align: top;\n",
              "    }\n",
              "\n",
              "    .dataframe thead th {\n",
              "        text-align: right;\n",
              "    }\n",
              "</style>\n",
              "<table border=\"1\" class=\"dataframe\">\n",
              "  <thead>\n",
              "    <tr style=\"text-align: right;\">\n",
              "      <th></th>\n",
              "      <th>sentiment</th>\n",
              "      <th>review</th>\n",
              "      <th>sentiment_label</th>\n",
              "    </tr>\n",
              "  </thead>\n",
              "  <tbody>\n",
              "    <tr>\n",
              "      <th>0</th>\n",
              "      <td>5.0</td>\n",
              "      <td>like pricing. granddaught want mark want letters.</td>\n",
              "      <td>1</td>\n",
              "    </tr>\n",
              "    <tr>\n",
              "      <th>1</th>\n",
              "      <td>4.0</td>\n",
              "      <td>love magnet easel... great move differ areas.....</td>\n",
              "      <td>1</td>\n",
              "    </tr>\n",
              "    <tr>\n",
              "      <th>2</th>\n",
              "      <td>5.0</td>\n",
              "      <td>side magnetic. real plu entertain one child. f...</td>\n",
              "      <td>1</td>\n",
              "    </tr>\n",
              "    <tr>\n",
              "      <th>3</th>\n",
              "      <td>5.0</td>\n",
              "      <td>bought one year ago daughter love it, still us...</td>\n",
              "      <td>1</td>\n",
              "    </tr>\n",
              "    <tr>\n",
              "      <th>4</th>\n",
              "      <td>4.0</td>\n",
              "      <td>stainless steel refriger therefor much space s...</td>\n",
              "      <td>1</td>\n",
              "    </tr>\n",
              "  </tbody>\n",
              "</table>\n",
              "</div>\n",
              "    <div class=\"colab-df-buttons\">\n",
              "\n",
              "  <div class=\"colab-df-container\">\n",
              "    <button class=\"colab-df-convert\" onclick=\"convertToInteractive('df-8d922796-810a-4600-995a-00a3c89c4444')\"\n",
              "            title=\"Convert this dataframe to an interactive table.\"\n",
              "            style=\"display:none;\">\n",
              "\n",
              "  <svg xmlns=\"http://www.w3.org/2000/svg\" height=\"24px\" viewBox=\"0 -960 960 960\">\n",
              "    <path d=\"M120-120v-720h720v720H120Zm60-500h600v-160H180v160Zm220 220h160v-160H400v160Zm0 220h160v-160H400v160ZM180-400h160v-160H180v160Zm440 0h160v-160H620v160ZM180-180h160v-160H180v160Zm440 0h160v-160H620v160Z\"/>\n",
              "  </svg>\n",
              "    </button>\n",
              "\n",
              "  <style>\n",
              "    .colab-df-container {\n",
              "      display:flex;\n",
              "      gap: 12px;\n",
              "    }\n",
              "\n",
              "    .colab-df-convert {\n",
              "      background-color: #E8F0FE;\n",
              "      border: none;\n",
              "      border-radius: 50%;\n",
              "      cursor: pointer;\n",
              "      display: none;\n",
              "      fill: #1967D2;\n",
              "      height: 32px;\n",
              "      padding: 0 0 0 0;\n",
              "      width: 32px;\n",
              "    }\n",
              "\n",
              "    .colab-df-convert:hover {\n",
              "      background-color: #E2EBFA;\n",
              "      box-shadow: 0px 1px 2px rgba(60, 64, 67, 0.3), 0px 1px 3px 1px rgba(60, 64, 67, 0.15);\n",
              "      fill: #174EA6;\n",
              "    }\n",
              "\n",
              "    .colab-df-buttons div {\n",
              "      margin-bottom: 4px;\n",
              "    }\n",
              "\n",
              "    [theme=dark] .colab-df-convert {\n",
              "      background-color: #3B4455;\n",
              "      fill: #D2E3FC;\n",
              "    }\n",
              "\n",
              "    [theme=dark] .colab-df-convert:hover {\n",
              "      background-color: #434B5C;\n",
              "      box-shadow: 0px 1px 3px 1px rgba(0, 0, 0, 0.15);\n",
              "      filter: drop-shadow(0px 1px 2px rgba(0, 0, 0, 0.3));\n",
              "      fill: #FFFFFF;\n",
              "    }\n",
              "  </style>\n",
              "\n",
              "    <script>\n",
              "      const buttonEl =\n",
              "        document.querySelector('#df-8d922796-810a-4600-995a-00a3c89c4444 button.colab-df-convert');\n",
              "      buttonEl.style.display =\n",
              "        google.colab.kernel.accessAllowed ? 'block' : 'none';\n",
              "\n",
              "      async function convertToInteractive(key) {\n",
              "        const element = document.querySelector('#df-8d922796-810a-4600-995a-00a3c89c4444');\n",
              "        const dataTable =\n",
              "          await google.colab.kernel.invokeFunction('convertToInteractive',\n",
              "                                                    [key], {});\n",
              "        if (!dataTable) return;\n",
              "\n",
              "        const docLinkHtml = 'Like what you see? Visit the ' +\n",
              "          '<a target=\"_blank\" href=https://colab.research.google.com/notebooks/data_table.ipynb>data table notebook</a>'\n",
              "          + ' to learn more about interactive tables.';\n",
              "        element.innerHTML = '';\n",
              "        dataTable['output_type'] = 'display_data';\n",
              "        await google.colab.output.renderOutput(dataTable, element);\n",
              "        const docLink = document.createElement('div');\n",
              "        docLink.innerHTML = docLinkHtml;\n",
              "        element.appendChild(docLink);\n",
              "      }\n",
              "    </script>\n",
              "  </div>\n",
              "\n",
              "\n",
              "<div id=\"df-61fa8c7d-d8b6-4b17-ad44-65c5165821e1\">\n",
              "  <button class=\"colab-df-quickchart\" onclick=\"quickchart('df-61fa8c7d-d8b6-4b17-ad44-65c5165821e1')\"\n",
              "            title=\"Suggest charts\"\n",
              "            style=\"display:none;\">\n",
              "\n",
              "<svg xmlns=\"http://www.w3.org/2000/svg\" height=\"24px\"viewBox=\"0 0 24 24\"\n",
              "     width=\"24px\">\n",
              "    <g>\n",
              "        <path d=\"M19 3H5c-1.1 0-2 .9-2 2v14c0 1.1.9 2 2 2h14c1.1 0 2-.9 2-2V5c0-1.1-.9-2-2-2zM9 17H7v-7h2v7zm4 0h-2V7h2v10zm4 0h-2v-4h2v4z\"/>\n",
              "    </g>\n",
              "</svg>\n",
              "  </button>\n",
              "\n",
              "<style>\n",
              "  .colab-df-quickchart {\n",
              "      --bg-color: #E8F0FE;\n",
              "      --fill-color: #1967D2;\n",
              "      --hover-bg-color: #E2EBFA;\n",
              "      --hover-fill-color: #174EA6;\n",
              "      --disabled-fill-color: #AAA;\n",
              "      --disabled-bg-color: #DDD;\n",
              "  }\n",
              "\n",
              "  [theme=dark] .colab-df-quickchart {\n",
              "      --bg-color: #3B4455;\n",
              "      --fill-color: #D2E3FC;\n",
              "      --hover-bg-color: #434B5C;\n",
              "      --hover-fill-color: #FFFFFF;\n",
              "      --disabled-bg-color: #3B4455;\n",
              "      --disabled-fill-color: #666;\n",
              "  }\n",
              "\n",
              "  .colab-df-quickchart {\n",
              "    background-color: var(--bg-color);\n",
              "    border: none;\n",
              "    border-radius: 50%;\n",
              "    cursor: pointer;\n",
              "    display: none;\n",
              "    fill: var(--fill-color);\n",
              "    height: 32px;\n",
              "    padding: 0;\n",
              "    width: 32px;\n",
              "  }\n",
              "\n",
              "  .colab-df-quickchart:hover {\n",
              "    background-color: var(--hover-bg-color);\n",
              "    box-shadow: 0 1px 2px rgba(60, 64, 67, 0.3), 0 1px 3px 1px rgba(60, 64, 67, 0.15);\n",
              "    fill: var(--button-hover-fill-color);\n",
              "  }\n",
              "\n",
              "  .colab-df-quickchart-complete:disabled,\n",
              "  .colab-df-quickchart-complete:disabled:hover {\n",
              "    background-color: var(--disabled-bg-color);\n",
              "    fill: var(--disabled-fill-color);\n",
              "    box-shadow: none;\n",
              "  }\n",
              "\n",
              "  .colab-df-spinner {\n",
              "    border: 2px solid var(--fill-color);\n",
              "    border-color: transparent;\n",
              "    border-bottom-color: var(--fill-color);\n",
              "    animation:\n",
              "      spin 1s steps(1) infinite;\n",
              "  }\n",
              "\n",
              "  @keyframes spin {\n",
              "    0% {\n",
              "      border-color: transparent;\n",
              "      border-bottom-color: var(--fill-color);\n",
              "      border-left-color: var(--fill-color);\n",
              "    }\n",
              "    20% {\n",
              "      border-color: transparent;\n",
              "      border-left-color: var(--fill-color);\n",
              "      border-top-color: var(--fill-color);\n",
              "    }\n",
              "    30% {\n",
              "      border-color: transparent;\n",
              "      border-left-color: var(--fill-color);\n",
              "      border-top-color: var(--fill-color);\n",
              "      border-right-color: var(--fill-color);\n",
              "    }\n",
              "    40% {\n",
              "      border-color: transparent;\n",
              "      border-right-color: var(--fill-color);\n",
              "      border-top-color: var(--fill-color);\n",
              "    }\n",
              "    60% {\n",
              "      border-color: transparent;\n",
              "      border-right-color: var(--fill-color);\n",
              "    }\n",
              "    80% {\n",
              "      border-color: transparent;\n",
              "      border-right-color: var(--fill-color);\n",
              "      border-bottom-color: var(--fill-color);\n",
              "    }\n",
              "    90% {\n",
              "      border-color: transparent;\n",
              "      border-bottom-color: var(--fill-color);\n",
              "    }\n",
              "  }\n",
              "</style>\n",
              "\n",
              "  <script>\n",
              "    async function quickchart(key) {\n",
              "      const quickchartButtonEl =\n",
              "        document.querySelector('#' + key + ' button');\n",
              "      quickchartButtonEl.disabled = true;  // To prevent multiple clicks.\n",
              "      quickchartButtonEl.classList.add('colab-df-spinner');\n",
              "      try {\n",
              "        const charts = await google.colab.kernel.invokeFunction(\n",
              "            'suggestCharts', [key], {});\n",
              "      } catch (error) {\n",
              "        console.error('Error during call to suggestCharts:', error);\n",
              "      }\n",
              "      quickchartButtonEl.classList.remove('colab-df-spinner');\n",
              "      quickchartButtonEl.classList.add('colab-df-quickchart-complete');\n",
              "    }\n",
              "    (() => {\n",
              "      let quickchartButtonEl =\n",
              "        document.querySelector('#df-61fa8c7d-d8b6-4b17-ad44-65c5165821e1 button');\n",
              "      quickchartButtonEl.style.display =\n",
              "        google.colab.kernel.accessAllowed ? 'block' : 'none';\n",
              "    })();\n",
              "  </script>\n",
              "</div>\n",
              "    </div>\n",
              "  </div>\n"
            ],
            "application/vnd.google.colaboratory.intrinsic+json": {
              "type": "dataframe",
              "variable_name": "new_df"
            }
          },
          "metadata": {},
          "execution_count": 10
        }
      ]
    },
    {
      "cell_type": "markdown",
      "source": [
        "Como fase previa del modelo también vamos a practicar una vectorización de las palabras en la muestra.  Para ello, aplicaremos un método de TFVectorizer. La separación entre \"train y test\" nos servirá además para comparar modelos más tarde."
      ],
      "metadata": {
        "id": "z9uSUdEjyK7V"
      }
    },
    {
      "cell_type": "code",
      "source": [
        "X_train, X_test, y_train, y_test = train_test_split(\n",
        "    new_df['review'],\n",
        "    new_df['sentiment_label'],\n",
        "    train_size=0.75,\n",
        "    test_size=0.25,\n",
        "    random_state=42,\n",
        "    shuffle=True\n",
        ")"
      ],
      "metadata": {
        "id": "KItdgeP2yK7V"
      },
      "execution_count": null,
      "outputs": []
    },
    {
      "cell_type": "markdown",
      "source": [
        "Aplicamos la vectorización"
      ],
      "metadata": {
        "id": "RbmKB2zPyK7V"
      }
    },
    {
      "cell_type": "code",
      "source": [
        "cv = TfidfVectorizer(\n",
        "    max_df=0.95,\n",
        "    min_df=3,\n",
        "    max_features=2500,\n",
        "    strip_accents='ascii',\n",
        "    ngram_range=(1, 1)\n",
        ")\n",
        "cv.fit(X_train)"
      ],
      "metadata": {
        "colab": {
          "base_uri": "https://localhost:8080/",
          "height": 74
        },
        "outputId": "25d80306-d3d5-4152-c675-32dbd1af1893",
        "id": "mjQ4NeVIyK7V"
      },
      "execution_count": null,
      "outputs": [
        {
          "output_type": "execute_result",
          "data": {
            "text/plain": [
              "TfidfVectorizer(max_df=0.95, max_features=2500, min_df=3, strip_accents='ascii')"
            ],
            "text/html": [
              "<style>#sk-container-id-1 {color: black;background-color: white;}#sk-container-id-1 pre{padding: 0;}#sk-container-id-1 div.sk-toggleable {background-color: white;}#sk-container-id-1 label.sk-toggleable__label {cursor: pointer;display: block;width: 100%;margin-bottom: 0;padding: 0.3em;box-sizing: border-box;text-align: center;}#sk-container-id-1 label.sk-toggleable__label-arrow:before {content: \"▸\";float: left;margin-right: 0.25em;color: #696969;}#sk-container-id-1 label.sk-toggleable__label-arrow:hover:before {color: black;}#sk-container-id-1 div.sk-estimator:hover label.sk-toggleable__label-arrow:before {color: black;}#sk-container-id-1 div.sk-toggleable__content {max-height: 0;max-width: 0;overflow: hidden;text-align: left;background-color: #f0f8ff;}#sk-container-id-1 div.sk-toggleable__content pre {margin: 0.2em;color: black;border-radius: 0.25em;background-color: #f0f8ff;}#sk-container-id-1 input.sk-toggleable__control:checked~div.sk-toggleable__content {max-height: 200px;max-width: 100%;overflow: auto;}#sk-container-id-1 input.sk-toggleable__control:checked~label.sk-toggleable__label-arrow:before {content: \"▾\";}#sk-container-id-1 div.sk-estimator input.sk-toggleable__control:checked~label.sk-toggleable__label {background-color: #d4ebff;}#sk-container-id-1 div.sk-label input.sk-toggleable__control:checked~label.sk-toggleable__label {background-color: #d4ebff;}#sk-container-id-1 input.sk-hidden--visually {border: 0;clip: rect(1px 1px 1px 1px);clip: rect(1px, 1px, 1px, 1px);height: 1px;margin: -1px;overflow: hidden;padding: 0;position: absolute;width: 1px;}#sk-container-id-1 div.sk-estimator {font-family: monospace;background-color: #f0f8ff;border: 1px dotted black;border-radius: 0.25em;box-sizing: border-box;margin-bottom: 0.5em;}#sk-container-id-1 div.sk-estimator:hover {background-color: #d4ebff;}#sk-container-id-1 div.sk-parallel-item::after {content: \"\";width: 100%;border-bottom: 1px solid gray;flex-grow: 1;}#sk-container-id-1 div.sk-label:hover label.sk-toggleable__label {background-color: #d4ebff;}#sk-container-id-1 div.sk-serial::before {content: \"\";position: absolute;border-left: 1px solid gray;box-sizing: border-box;top: 0;bottom: 0;left: 50%;z-index: 0;}#sk-container-id-1 div.sk-serial {display: flex;flex-direction: column;align-items: center;background-color: white;padding-right: 0.2em;padding-left: 0.2em;position: relative;}#sk-container-id-1 div.sk-item {position: relative;z-index: 1;}#sk-container-id-1 div.sk-parallel {display: flex;align-items: stretch;justify-content: center;background-color: white;position: relative;}#sk-container-id-1 div.sk-item::before, #sk-container-id-1 div.sk-parallel-item::before {content: \"\";position: absolute;border-left: 1px solid gray;box-sizing: border-box;top: 0;bottom: 0;left: 50%;z-index: -1;}#sk-container-id-1 div.sk-parallel-item {display: flex;flex-direction: column;z-index: 1;position: relative;background-color: white;}#sk-container-id-1 div.sk-parallel-item:first-child::after {align-self: flex-end;width: 50%;}#sk-container-id-1 div.sk-parallel-item:last-child::after {align-self: flex-start;width: 50%;}#sk-container-id-1 div.sk-parallel-item:only-child::after {width: 0;}#sk-container-id-1 div.sk-dashed-wrapped {border: 1px dashed gray;margin: 0 0.4em 0.5em 0.4em;box-sizing: border-box;padding-bottom: 0.4em;background-color: white;}#sk-container-id-1 div.sk-label label {font-family: monospace;font-weight: bold;display: inline-block;line-height: 1.2em;}#sk-container-id-1 div.sk-label-container {text-align: center;}#sk-container-id-1 div.sk-container {/* jupyter's `normalize.less` sets `[hidden] { display: none; }` but bootstrap.min.css set `[hidden] { display: none !important; }` so we also need the `!important` here to be able to override the default hidden behavior on the sphinx rendered scikit-learn.org. See: https://github.com/scikit-learn/scikit-learn/issues/21755 */display: inline-block !important;position: relative;}#sk-container-id-1 div.sk-text-repr-fallback {display: none;}</style><div id=\"sk-container-id-1\" class=\"sk-top-container\"><div class=\"sk-text-repr-fallback\"><pre>TfidfVectorizer(max_df=0.95, max_features=2500, min_df=3, strip_accents=&#x27;ascii&#x27;)</pre><b>In a Jupyter environment, please rerun this cell to show the HTML representation or trust the notebook. <br />On GitHub, the HTML representation is unable to render, please try loading this page with nbviewer.org.</b></div><div class=\"sk-container\" hidden><div class=\"sk-item\"><div class=\"sk-estimator sk-toggleable\"><input class=\"sk-toggleable__control sk-hidden--visually\" id=\"sk-estimator-id-1\" type=\"checkbox\" checked><label for=\"sk-estimator-id-1\" class=\"sk-toggleable__label sk-toggleable__label-arrow\">TfidfVectorizer</label><div class=\"sk-toggleable__content\"><pre>TfidfVectorizer(max_df=0.95, max_features=2500, min_df=3, strip_accents=&#x27;ascii&#x27;)</pre></div></div></div></div></div>"
            ]
          },
          "metadata": {},
          "execution_count": 15
        }
      ]
    },
    {
      "cell_type": "markdown",
      "source": [
        "A continuación, transformamos en Train y Test para poder aplicar modelos."
      ],
      "metadata": {
        "id": "Fpb-TnJXyK7V"
      }
    },
    {
      "cell_type": "code",
      "source": [
        "X_train_ = cv.transform(X_train)\n",
        "X_test_ = cv.transform(X_test)"
      ],
      "metadata": {
        "id": "6y_qUURWyK7V"
      },
      "execution_count": null,
      "outputs": []
    },
    {
      "cell_type": "markdown",
      "source": [
        "Ahora empezamos la fase de MODELIZACIÓN propiamente dicha"
      ],
      "metadata": {
        "id": "ebk_cK2dyjTh"
      }
    },
    {
      "cell_type": "markdown",
      "source": [
        "**MODELO 1. REGRESIÓN LOGISTICA. VAMOS A APLICAR UN MODELO DE CLASIFICACIÓN BINARIA SUPERVISADO A TRAVÉS DE REGRESIÓN LOGISTICA.**"
      ],
      "metadata": {
        "id": "ltfofmgeeect"
      }
    },
    {
      "cell_type": "markdown",
      "source": [
        "Una vez tenemos el conjunto de palabras debidamente normalizadas, vectorizadas y separadas en train y test, podemos proceder a entrenar modelos de clasificación binaria supervisada, como puede ser un modelo de regresión logística. Entrenamos un modelo con siguientes valores para el parámetro \"C\" para ver con qué nivel nos quedamos."
      ],
      "metadata": {
        "id": "6HLqePkMQ4bz"
      }
    },
    {
      "cell_type": "code",
      "source": [
        "c_params = [0.01, 0.05, 0.25, 0.5, 1, 10, 100, 1000, 10000]\n",
        "\n",
        "train_acc = list()\n",
        "test_acc = list()\n",
        "for c in c_params:\n",
        "    lr = LogisticRegression(C=c, solver='lbfgs', max_iter=500)\n",
        "    lr.fit(X_train_, y_train)\n",
        "\n",
        "    train_predict = lr.predict(X_train_)\n",
        "    test_predict = lr.predict(X_test_)\n",
        "\n",
        "    print (\"Accuracy for C={}: {}\".format(c, accuracy_score(y_test, test_predict)))\n",
        "\n",
        "    train_acc.append(accuracy_score(y_train, train_predict))\n",
        "    test_acc.append(accuracy_score(y_test, test_predict))"
      ],
      "metadata": {
        "colab": {
          "base_uri": "https://localhost:8080/"
        },
        "id": "eZWjCQaIQ2t7",
        "outputId": "3c2cee45-f89e-4697-ad19-4845ee53f1be"
      },
      "execution_count": null,
      "outputs": [
        {
          "output_type": "stream",
          "name": "stdout",
          "text": [
            "Accuracy for C=0.01: 0.8352028639618139\n",
            "Accuracy for C=0.05: 0.8612649164677805\n",
            "Accuracy for C=0.25: 0.8835560859188544\n",
            "Accuracy for C=0.5: 0.8864200477326969\n",
            "Accuracy for C=1: 0.8885680190930788\n",
            "Accuracy for C=10: 0.889236276849642\n",
            "Accuracy for C=100: 0.8892840095465394\n",
            "Accuracy for C=1000: 0.8894272076372315\n",
            "Accuracy for C=10000: 0.8894033412887828\n"
          ]
        }
      ]
    },
    {
      "cell_type": "code",
      "source": [
        "print('Confussion matrix:\\n{}'.format(confusion_matrix(y_test, test_predict)))\n",
        "print('\\nClassification report:\\n{}'.format(classification_report(y_test, test_predict)))\n",
        "print('Accuracy score:{}'.format(accuracy_score(y_test, test_predict)))"
      ],
      "metadata": {
        "colab": {
          "base_uri": "https://localhost:8080/"
        },
        "id": "MyUYxJt2RejC",
        "outputId": "1e9f45fe-3dee-4301-c35e-536cd5a0d218"
      },
      "execution_count": null,
      "outputs": [
        {
          "output_type": "stream",
          "name": "stdout",
          "text": [
            "Confussion matrix:\n",
            "[[ 3625  3284]\n",
            " [ 1350 33641]]\n",
            "\n",
            "Classification report:\n",
            "              precision    recall  f1-score   support\n",
            "\n",
            "           0       0.73      0.52      0.61      6909\n",
            "           1       0.91      0.96      0.94     34991\n",
            "\n",
            "    accuracy                           0.89     41900\n",
            "   macro avg       0.82      0.74      0.77     41900\n",
            "weighted avg       0.88      0.89      0.88     41900\n",
            "\n",
            "Accuracy score:0.8894033412887828\n"
          ]
        }
      ]
    },
    {
      "cell_type": "markdown",
      "source": [
        "Parece que el modelo funciona bastante bien para predecir textos favorables, ya que la precisión es bastante elevada. No es tan bueno en clasificar sentimientos negativos. Es muy posible que sea porque la muestra no esté debidamente balanceada. Se ve claro en el caso del \"recall\" de la clasificación del sentimiento negativo, donde se aprecia un valor bajo. La precisión del modelo no es tan mala, ya que el 70% de los positivos fueron correctamente identificados. *NOTA: HICE UNA PRUEBA TRATANDO DE REBALANCEAR LAS MUESTRAS DEFINIENDO SENTIMIENTO FAVORABLE COMO UNA NOTA DE 5, PERO AUNQUE MEJORÓ ALGO EL RECALL DE LA CLASIFICACIÓN NEGATIVA O \"O\" (DEL 52% AL 62%), EL RESULTADO DEL ACCURACY SCORE BAJÓ DEL 90% AL 77%, ASÍ QUE LO DESCARTÉ*"
      ],
      "metadata": {
        "id": "ju7uaktlR2px"
      }
    },
    {
      "cell_type": "code",
      "source": [
        "plt.figure(figsize=(12, 8))\n",
        "plt.plot(train_acc, label='train')\n",
        "plt.plot(test_acc, label='test')\n",
        "plt.axvline(np.argmax(test_acc), c='g', ls='--', alpha=0.8)\n",
        "plt.title('Accuracy evolution for different C values')\n",
        "plt.xlabel('C')\n",
        "plt.ylabel('Accuracy')\n",
        "plt.legend()\n",
        "plt.grid()\n",
        "plt.xticks(list(range(len(c_params))), c_params)\n",
        "plt.tight_layout()\n",
        "plt.show()"
      ],
      "metadata": {
        "colab": {
          "base_uri": "https://localhost:8080/",
          "height": 807
        },
        "id": "fpyS3iU-Z-6r",
        "outputId": "e847a375-ae39-412e-c1e2-a9ce21222498"
      },
      "execution_count": null,
      "outputs": [
        {
          "output_type": "display_data",
          "data": {
            "text/plain": [
              "<Figure size 1200x800 with 1 Axes>"
            ],
            "image/png": "[encoded data removed]"
          },
          "metadata": {}
        }
      ]
    },
    {
      "cell_type": "markdown",
      "source": [
        "Visto el gráfico parece que el modelo generaliza razonablemente bien. Probablemente con una \"C\" de entre 1 y 10, el modelo ya obtiene buenos resultados sin incurrir en problemas de overfitting."
      ],
      "metadata": {
        "id": "P23CJ1lQRAl4"
      }
    },
    {
      "cell_type": "markdown",
      "source": [
        "MODELO II. MODELO BASADO EN DEEPLEARNING"
      ],
      "metadata": {
        "id": "3KaWAd-9fA82"
      }
    },
    {
      "cell_type": "markdown",
      "source": [
        "Vamos a predecir el modelo sobre el mismo bag of words. Utilizaremos un modelo de deeplearning para ello."
      ],
      "metadata": {
        "id": "4EbjlBsefbUv"
      }
    },
    {
      "cell_type": "code",
      "source": [
        "\n",
        "\n",
        "# Define the model\n",
        "model = Sequential()\n",
        "model.add(Dense(100, input_dim=X_train_.shape[1], activation='relu'))\n",
        "model.add(Dense(50, activation='relu'))\n",
        "model.add(Dense(1, activation='sigmoid'))  # Binary classification\n",
        "\n",
        "# Compile the model\n",
        "model.compile(loss='binary_crossentropy', optimizer='adam', metrics=['accuracy'])\n",
        "\n",
        "# Convertir los datos dispersos a un formato denso\n",
        "X_train_dense = X_train_.toarray()\n",
        "X_test_dense = X_test_.toarray()\n",
        "\n",
        "# Definir el tamaño del batch size y el numero de epochs\n",
        "batch_size=64\n",
        "num_epochs=10\n",
        "# Reservar para validation una parte de la muestra\n",
        "X_valid, y_valid = X_train_dense[:batch_size], y_train[:batch_size]  # first batch_size samples\n",
        "X_train2, y_train2 = X_train_dense[batch_size:], y_train[batch_size:]  # rest for training\n",
        "\n",
        "# Entrenar el modelo\n",
        "model.fit(X_train2, y_train2,\n",
        "          validation_data=(X_valid, y_valid),\n",
        "          batch_size=batch_size, epochs=num_epochs)\n",
        "\n",
        "# Evaluar el modelo\n",
        "_, accuracy = model.evaluate(X_test_dense, y_test)\n",
        "print('Accuracy: %.2f' % (accuracy*100))"
      ],
      "metadata": {
        "colab": {
          "base_uri": "https://localhost:8080/"
        },
        "id": "-cNhSOqxhMz2",
        "outputId": "6c85d029-22b0-4064-8273-3f50467a8ce8"
      },
      "execution_count": null,
      "outputs": [
        {
          "output_type": "stream",
          "name": "stdout",
          "text": [
            "Epoch 1/10\n",
            "1964/1964 [==============================] - 17s 8ms/step - loss: 0.2917 - accuracy: 0.8786 - val_loss: 0.1862 - val_accuracy: 0.9375\n",
            "Epoch 2/10\n",
            "1964/1964 [==============================] - 15s 8ms/step - loss: 0.2541 - accuracy: 0.8958 - val_loss: 0.1651 - val_accuracy: 0.9375\n",
            "Epoch 3/10\n",
            "1964/1964 [==============================] - 16s 8ms/step - loss: 0.2193 - accuracy: 0.9140 - val_loss: 0.1597 - val_accuracy: 0.9531\n",
            "Epoch 4/10\n",
            "1964/1964 [==============================] - 20s 10ms/step - loss: 0.1565 - accuracy: 0.9439 - val_loss: 0.1962 - val_accuracy: 0.9062\n",
            "Epoch 5/10\n",
            "1964/1964 [==============================] - 19s 9ms/step - loss: 0.0911 - accuracy: 0.9703 - val_loss: 0.3121 - val_accuracy: 0.9062\n",
            "Epoch 6/10\n",
            "1964/1964 [==============================] - 19s 10ms/step - loss: 0.0454 - accuracy: 0.9861 - val_loss: 0.4218 - val_accuracy: 0.9062\n",
            "Epoch 7/10\n",
            "1964/1964 [==============================] - 17s 9ms/step - loss: 0.0247 - accuracy: 0.9926 - val_loss: 0.4693 - val_accuracy: 0.9062\n",
            "Epoch 8/10\n",
            "1964/1964 [==============================] - 15s 8ms/step - loss: 0.0130 - accuracy: 0.9963 - val_loss: 0.5450 - val_accuracy: 0.9062\n",
            "Epoch 9/10\n",
            "1964/1964 [==============================] - 16s 8ms/step - loss: 0.0103 - accuracy: 0.9970 - val_loss: 0.8892 - val_accuracy: 0.8750\n",
            "Epoch 10/10\n",
            "1964/1964 [==============================] - 16s 8ms/step - loss: 0.0085 - accuracy: 0.9975 - val_loss: 0.7392 - val_accuracy: 0.8750\n",
            "1310/1310 [==============================] - 4s 3ms/step - loss: 1.0080 - accuracy: 0.8678\n",
            "Accuracy: 86.78\n"
          ]
        }
      ]
    },
    {
      "cell_type": "code",
      "source": [
        "# Predecir las probabilidades de clase para los datos de prueba\n",
        "y_pred_prob = model.predict(X_test_dense)\n",
        "\n",
        "# Convertir las probabilidades en clases utilizando un umbral (por ejemplo, 0.5)\n",
        "y_pred = (y_pred_prob > 0.5).astype(int)\n",
        "\n",
        "# Calcular la matriz de confusión\n",
        "conf_matrix = confusion_matrix(y_test, y_pred)\n",
        "print(\"Confusion Matrix:\")\n",
        "print(conf_matrix)\n",
        "\n",
        "# Calcular el informe de clasificación\n",
        "class_report = classification_report(y_test, y_pred)\n",
        "print(\"\\nClassification Report:\")\n",
        "print(class_report)\n",
        "\n",
        "# Calcular la puntuación de precisión\n",
        "accuracy = accuracy_score(y_test, y_pred)\n",
        "print(\"\\nAccuracy Score:\", accuracy)\n"
      ],
      "metadata": {
        "colab": {
          "base_uri": "https://localhost:8080/"
        },
        "id": "SEyiHe6VpNeI",
        "outputId": "6fb87650-a6bd-480f-a1ec-dd57b1f15d75"
      },
      "execution_count": null,
      "outputs": [
        {
          "output_type": "stream",
          "name": "stdout",
          "text": [
            "1310/1310 [==============================] - 7s 5ms/step\n",
            "Confusion Matrix:\n",
            "[[ 3770  3139]\n",
            " [ 2401 32590]]\n",
            "\n",
            "Classification Report:\n",
            "              precision    recall  f1-score   support\n",
            "\n",
            "           0       0.61      0.55      0.58      6909\n",
            "           1       0.91      0.93      0.92     34991\n",
            "\n",
            "    accuracy                           0.87     41900\n",
            "   macro avg       0.76      0.74      0.75     41900\n",
            "weighted avg       0.86      0.87      0.86     41900\n",
            "\n",
            "\n",
            "Accuracy Score: 0.867780429594272\n"
          ]
        }
      ]
    },
    {
      "cell_type": "markdown",
      "source": [
        "Los resultados del modelo son muy similares al modelo anterior, sin que se aprecie significativamente una mejoría de resultados aplicando el modelo de deeplearning. De hecho, ambos modelos fallan en la clasificación de aquellos \"reviews\" con sentimiento negativo, adoleciendo un problema de muestras desbalanceadas."
      ],
      "metadata": {
        "id": "Ilj8LXEcnsel"
      }
    }
  ]
}